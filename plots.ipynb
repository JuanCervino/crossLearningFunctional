{
 "cells": [
  {
   "cell_type": "code",
   "execution_count": 4,
   "metadata": {},
   "outputs": [
    {
     "name": "stdout",
     "output_type": "stream",
     "text": [
      "The autoreload extension is already loaded. To reload it, use:\n",
      "  %reload_ext autoreload\n",
      "people_vaccinated_per_hundred\n",
      "people_fully_vaccinated_per_hundred\n",
      "total_boosters_per_hundred\n",
      "new_vaccinations_smoothed_per_million\n",
      "new_people_vaccinated_smoothed\n",
      "new_people_vaccinated_smoothed_per_hundred\n",
      "stringency_index\n",
      "population_density\n",
      "median_age\n",
      "aged_65_older\n",
      "aged_70_older\n",
      "gdp_per_capita\n",
      "extreme_poverty\n",
      "cardiovasc_death_rate\n",
      "diabetes_prevalence\n",
      "female_smokers\n",
      "male_smokers\n",
      "handwashing_facilities\n",
      "hospital_beds_per_thousand\n",
      "life_expectancy\n",
      "human_development_index\n",
      "population\n",
      "excess_mortality_cumulative_absolute\n",
      "excess_mortality_cumulative\n",
      "excess_mortality\n",
      "excess_mortality_cumulative_per_million\n",
      "[   0    1    2 ... 1364 1365 1366] 328622   NaN\n",
      "328623   NaN\n",
      "328624   NaN\n",
      "328625   NaN\n",
      "328626   NaN\n",
      "          ..\n",
      "329217   NaN\n",
      "329218   NaN\n",
      "329219   NaN\n",
      "329220   NaN\n",
      "329221   NaN\n",
      "Name: excess_mortality_cumulative_per_million, Length: 600, dtype: float64\n"
     ]
    },
    {
     "name": "stderr",
     "output_type": "stream",
     "text": [
      "/tmp/ipykernel_1062109/3020472906.py:32: FutureWarning: The behavior of `series[i:j]` with an integer-dtype index is deprecated. In a future version, this will be treated as *label-based* indexing, consistent with e.g. `series[i]` lookups. To retain the old behavior, use `series.iloc[i:j]`. To get the future behavior, use `series.loc[i:j]`.\n",
      "  print(x,datasets[ele][key][0:600])\n",
      "/tmp/ipykernel_1062109/3020472906.py:33: FutureWarning: The behavior of `series[i:j]` with an integer-dtype index is deprecated. In a future version, this will be treated as *label-based* indexing, consistent with e.g. `series[i]` lookups. To retain the old behavior, use `series.iloc[i:j]`. To get the future behavior, use `series.loc[i:j]`.\n",
      "  plt.plot(x[0:600],datasets[ele][key][0:600])\n"
     ]
    },
    {
     "data": {
      "image/png": "[encoded data removed]",
      "text/plain": [
       "<Figure size 640x480 with 1 Axes>"
      ]
     },
     "metadata": {},
     "output_type": "display_data"
    }
   ],
   "source": [
    "%load_ext autoreload\n",
    "\n",
    "%autoreload\n",
    "import numpy as np\n",
    "import pandas as pd \n",
    "import os\n",
    "import matplotlib.pyplot as plt\n",
    "from crosslearning.lib.utils import get_covid_datasets\n",
    "# print(os.getcwd())\n",
    "df = pd.read_csv('crosslearning/data/owid-covid-data.csv')\n",
    "\n",
    "for idx, key in enumerate(df):\n",
    "    if idx>40:\n",
    "        print(key)\n",
    "\n",
    "# for key in df['iso_code']:\n",
    "#     print(key)\n",
    "\n",
    "# print(len(df[\"iso_code\"].drop_duplicates()))\n",
    "# print( df[\"iso_code\"].drop_duplicates())\n",
    "\n",
    "# print( sum(df[\"iso_code\"] == 'USA'))\n",
    "# countries = [ 'URY','USA', 'ESP', 'ARG','BRA','FRA','PRY', 'ITA']\n",
    "countries = [ 'URY']\n",
    "\n",
    "# key = 'total_cases_per_million'\n",
    "datasets = {}\n",
    "for ele in countries:\n",
    "    plt.figure()\n",
    "    datasets[ele] = df[df[\"iso_code\"] == ele]\n",
    "    x = np.arange(len(datasets[ele][key]))\n",
    "    plt.plot(x[0:600],datasets[ele][key][0:600])\n",
    "    plt.title(ele)\n",
    "# plt.legend(countries)\n",
    "\n",
    "# ls = get_covid_datasets(countries, 0, 400, 600, key )"
   ]
  },
  {
   "cell_type": "code",
   "execution_count": 2,
   "metadata": {},
   "outputs": [
    {
     "ename": "ModuleNotFoundError",
     "evalue": "No module named 'lib'",
     "output_type": "error",
     "traceback": [
      "\u001b[0;31m---------------------------------------------------------------------------\u001b[0m",
      "\u001b[0;31mModuleNotFoundError\u001b[0m                       Traceback (most recent call last)",
      "Cell \u001b[0;32mIn [2], line 3\u001b[0m\n\u001b[1;32m      1\u001b[0m \u001b[38;5;28;01mimport\u001b[39;00m \u001b[38;5;21;01mpickle\u001b[39;00m\n\u001b[1;32m      2\u001b[0m \u001b[38;5;28;01mfrom\u001b[39;00m \u001b[38;5;21;01mcrosslearning\u001b[39;00m\u001b[38;5;21;01m.\u001b[39;00m\u001b[38;5;21;01mlib\u001b[39;00m\u001b[38;5;21;01m.\u001b[39;00m\u001b[38;5;21;01mmodels\u001b[39;00m \u001b[38;5;28;01mimport\u001b[39;00m \u001b[38;5;241m*\u001b[39m\n\u001b[0;32m----> 3\u001b[0m \u001b[38;5;28;01mfrom\u001b[39;00m \u001b[38;5;21;01mcrosslearning\u001b[39;00m\u001b[38;5;21;01m.\u001b[39;00m\u001b[38;5;21;01mlib\u001b[39;00m\u001b[38;5;21;01m.\u001b[39;00m\u001b[38;5;21;01mconfigs\u001b[39;00m \u001b[38;5;28;01mimport\u001b[39;00m datasets, countries, estimator_vals, logg_every_e\n\u001b[1;32m      4\u001b[0m \u001b[38;5;28;01mimport\u001b[39;00m \u001b[38;5;21;01mos\u001b[39;00m\n\u001b[1;32m      5\u001b[0m \u001b[38;5;28;01mimport\u001b[39;00m \u001b[38;5;21;01mmatplotlib\u001b[39;00m\u001b[38;5;21;01m.\u001b[39;00m\u001b[38;5;21;01mpyplot\u001b[39;00m \u001b[38;5;28;01mas\u001b[39;00m \u001b[38;5;21;01mplt\u001b[39;00m\n",
      "File \u001b[0;32m~/Github/crossLearningFunctional/crosslearning/lib/configs.py:1\u001b[0m\n\u001b[0;32m----> 1\u001b[0m \u001b[38;5;28;01mfrom\u001b[39;00m \u001b[38;5;21;01mlib\u001b[39;00m\u001b[38;5;21;01m.\u001b[39;00m\u001b[38;5;21;01mutils\u001b[39;00m \u001b[38;5;28;01mimport\u001b[39;00m \u001b[38;5;241m*\u001b[39m\n\u001b[1;32m      3\u001b[0m countries \u001b[38;5;241m=\u001b[39m [ \u001b[38;5;124m'\u001b[39m\u001b[38;5;124mURY\u001b[39m\u001b[38;5;124m'\u001b[39m,\u001b[38;5;124m'\u001b[39m\u001b[38;5;124mUSA\u001b[39m\u001b[38;5;124m'\u001b[39m, \u001b[38;5;124m'\u001b[39m\u001b[38;5;124mESP\u001b[39m\u001b[38;5;124m'\u001b[39m, \u001b[38;5;124m'\u001b[39m\u001b[38;5;124mARG\u001b[39m\u001b[38;5;124m'\u001b[39m,\u001b[38;5;124m'\u001b[39m\u001b[38;5;124mBRA\u001b[39m\u001b[38;5;124m'\u001b[39m,\u001b[38;5;124m'\u001b[39m\u001b[38;5;124mMEX\u001b[39m\u001b[38;5;124m'\u001b[39m,\u001b[38;5;124m'\u001b[39m\u001b[38;5;124mPRY\u001b[39m\u001b[38;5;124m'\u001b[39m, \u001b[38;5;124m'\u001b[39m\u001b[38;5;124mITA\u001b[39m\u001b[38;5;124m'\u001b[39m]\n\u001b[1;32m      5\u001b[0m start \u001b[38;5;241m=\u001b[39m \u001b[38;5;241m77\u001b[39m\n",
      "\u001b[0;31mModuleNotFoundError\u001b[0m: No module named 'lib'"
     ]
    }
   ],
   "source": [
    "import pickle\n",
    "from crosslearning.lib.models import *\n",
    "from crosslearning.lib.configs import datasets, countries, estimator_vals, logg_every_e\n",
    "import os\n",
    "import matplotlib.pyplot as plt\n",
    "\n",
    "# def addOverCountries(listOfCountries, errorDict):\n",
    "#     errorDict [] \n",
    "#     return errorTrain, errorTest\n",
    "\n",
    "file_path = os.getcwd()+\"/crosslearning/output/2023-11-0618:08:52_data.pkl\"\n",
    "\n",
    "with open(file_path, \"rb\") as pickle_file:\n",
    "    loaded_data = pickle.load(pickle_file)\n",
    "\n",
    "trainAcc = 0\n",
    "testAcc = 0\n",
    "\n",
    "for country in countries:\n",
    "    print(f\"Country {country}\")\n",
    "    print(f\"For Centralized train error {loaded_data['centralized'][country]['train']} and test error {loaded_data['centralized'][country]['test']}\" )\n",
    "    print(f\"For Independent train error {loaded_data['independent'][country]['train']} and test error {loaded_data['independent'][country]['test']}\" )\n",
    "    print('Parametric')\n",
    "    for epsilon in loaded_data['epsilonsParametric']:\n",
    "        print(f\"For Parametric {epsilon} train error {loaded_data['CLParametric'][str(epsilon)][country]['train']} and test error {loaded_data['CLParametric'][str(epsilon)][country]['test']}\" )\n",
    "    for epsilon in loaded_data['epsilonsFunctional']:\n",
    "        print(f\"For Functional {epsilon} train error {loaded_data['CLFunctional'][str(epsilon)][country]['train']} and test error {loaded_data['CLFunctional'][str(epsilon)][country]['test']}\" )\n",
    "\n",
    "print(f\"For Functional {epsilon} train error {loaded_data['CLFunctional'][str(epsilon)][country]['lambdas']} and test error {loaded_data['CLFunctional'][str(epsilon)][country]['constraint']}\" )\n"
   ]
  },
  {
   "cell_type": "code",
   "execution_count": null,
   "metadata": {},
   "outputs": [],
   "source": []
  }
 ],
 "metadata": {
  "kernelspec": {
   "display_name": "flocking",
   "language": "python",
   "name": "python3"
  },
  "language_info": {
   "codemirror_mode": {
    "name": "ipython",
    "version": 3
   },
   "file_extension": ".py",
   "mimetype": "text/x-python",
   "name": "python",
   "nbconvert_exporter": "python",
   "pygments_lexer": "ipython3",
   "version": "3.9.7"
  },
  "orig_nbformat": 4
 },
 "nbformat": 4,
 "nbformat_minor": 2
}
